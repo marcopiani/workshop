{
 "cells": [
  {
   "cell_type": "markdown",
   "id": "ebe3415c",
   "metadata": {},
   "source": [
    "Demo of the elements of a plot and effect of modifications\n",
    "==="
   ]
  },
  {
   "cell_type": "code",
   "execution_count": 4,
   "id": "5b14548c",
   "metadata": {},
   "outputs": [],
   "source": [
    "import matplotlib.pyplot as plt\n",
    "from matplotlib import patheffects\n",
    "import numpy as np\n",
    "import pandas as pd"
   ]
  },
  {
   "cell_type": "markdown",
   "id": "5ba33316",
   "metadata": {},
   "source": [
    "This notebook uses ipywidgets for interaction.\n",
    "\n",
    "NOTE: the interaction is implemented in a naive and inefficient way, with the plot continuously redone"
   ]
  },
  {
   "cell_type": "code",
   "execution_count": 5,
   "id": "2810c3b3",
   "metadata": {},
   "outputs": [],
   "source": [
    "import ipywidgets as widgets\n",
    "from ipywidgets import interact, interactive, fixed, interact_manual\n",
    "from IPython.display import display"
   ]
  },
  {
   "cell_type": "code",
   "execution_count": 6,
   "id": "d8242e9b",
   "metadata": {},
   "outputs": [],
   "source": [
    "x = np.linspace(-5,5,50)"
   ]
  },
  {
   "cell_type": "markdown",
   "id": "908180dc",
   "metadata": {},
   "source": [
    "Definitions"
   ]
  },
  {
   "cell_type": "code",
   "execution_count": 7,
   "id": "3e287724",
   "metadata": {},
   "outputs": [],
   "source": [
    "# Definition of generic cubic function used in the examples\n",
    "\n",
    "def cubic(x, a=1, b=1, c=1, d=1):\n",
    "\n",
    "    return a*x**3 + b*x**2 + c*x + d\n",
    "\n",
    "# Definition of the function used to create the interactive widget\n",
    "\n",
    "def f(\n",
    "        lw=3, alpha = 1,\n",
    "        gridStatus = False, gridAlpha = 1,\n",
    "        spinesStatus = True, tickStatus = True,\n",
    "        fgColor = \"white\",\n",
    "        pathEffectWidth = 0,\n",
    "    ):\n",
    "\n",
    "    fig, ax = plt.subplots(figsize=(8,6))\n",
    "\n",
    "    myPolynomials = [\n",
    "        (0,     1,      0,      0),\n",
    "        (0,    -1,      0,     10),\n",
    "        (1,     0,    -10,      0)\n",
    "    ]\n",
    "\n",
    "    for a, b, c, d in myPolynomials:\n",
    "    \n",
    "        ax.plot(\n",
    "            x,\n",
    "            cubic(x, a, b, c, d),\n",
    "            lw=lw, alpha = alpha,\n",
    "            path_effects = [patheffects.withStroke(linewidth=lw + pathEffectWidth, foreground=\"white\")]\n",
    "        )\n",
    "    \n",
    "    ax.grid(alpha = gridAlpha)\n",
    "    ax.grid(gridStatus)\n",
    "    \n",
    "    if not tickStatus: ax.tick_params(length = 0)\n",
    "        \n",
    "    ax.set_facecolor(fgColor)\n",
    "    fig.set_facecolor(fgColor)\n",
    "    \n",
    "    for spine in ax.spines:\n",
    "        \n",
    "        ax.spines[spine].set_visible(spinesStatus)\n",
    "\n",
    "    plt.show()"
   ]
  },
  {
   "cell_type": "code",
   "execution_count": 8,
   "id": "81418f7c",
   "metadata": {},
   "outputs": [
    {
     "data": {
      "application/vnd.jupyter.widget-view+json": {
       "model_id": "b038232c4cda4774b2a5e0a4ac2e75d1",
       "version_major": 2,
       "version_minor": 0
      },
      "text/plain": [
       "interactive(children=(FloatSlider(value=1.5, description='lw', max=10.0, step=0.25), FloatSlider(value=1.0, de…"
      ]
     },
     "metadata": {},
     "output_type": "display_data"
    },
    {
     "data": {
      "text/plain": [
       "<function __main__.f(lw=3, alpha=1, gridStatus=False, gridAlpha=1, spinesStatus=True, tickStatus=True, fgColor='white', pathEffectWidth=0)>"
      ]
     },
     "execution_count": 8,
     "metadata": {},
     "output_type": "execute_result"
    }
   ],
   "source": [
    "# Definition of the interactive widget\n",
    "\n",
    "alphaSlider = widgets.FloatSlider(value = 1, min = 0, max = 1, step = 0.1)\n",
    "\n",
    "lwSlider = widgets.FloatSlider(value = 1.5, min = 0.0, max = 10, step = 0.25)\n",
    "\n",
    "pathEffectSlider = widgets.FloatSlider(\n",
    "    value = 0,\n",
    "    min = 0,\n",
    "    max = 4,\n",
    "    step = 0.5,\n",
    "    description = \"path effect width\",\n",
    ")\n",
    "\n",
    "gridCheckbox = widgets.Checkbox(\n",
    "    value=False,\n",
    "    description='grid',\n",
    "    disabled=False\n",
    ")\n",
    "gridAlphaSlider = widgets.FloatSlider(value = 1, min = 0, max = 1, step = 0.1)\n",
    "\n",
    "spinesCheckbox = widgets.Checkbox(\n",
    "    value=True,\n",
    "    description='spines',\n",
    "    disabled=False\n",
    ")\n",
    "ticksCheckbox = widgets.Checkbox(\n",
    "    value=True,\n",
    "    description='ticks',\n",
    "    disabled=False\n",
    ")\n",
    "\n",
    "fgColorPicker = widgets.ColorPicker(\n",
    "    concise=True,\n",
    "    description='fg color',\n",
    "    value='white',\n",
    "    disabled=False\n",
    ")\n",
    "\n",
    "# Display the interactive widget\n",
    "\n",
    "interact(f, lw = lwSlider, alpha = alphaSlider,\n",
    "        gridStatus = gridCheckbox, gridAlpha = gridAlphaSlider,\n",
    "        spinesStatus = spinesCheckbox,\n",
    "        ticksStatus = ticksCheckbox, fgColor = fgColorPicker,\n",
    "        pathEffectWidth = pathEffectSlider\n",
    "    )"
   ]
  }
 ],
 "metadata": {
  "kernelspec": {
   "display_name": "Python 3.10.6 ('workshop')",
   "language": "python",
   "name": "python3"
  },
  "language_info": {
   "codemirror_mode": {
    "name": "ipython",
    "version": 3
   },
   "file_extension": ".py",
   "mimetype": "text/x-python",
   "name": "python",
   "nbconvert_exporter": "python",
   "pygments_lexer": "ipython3",
   "version": "3.10.6"
  },
  "vscode": {
   "interpreter": {
    "hash": "51c4bc9c6f690277660e90ee7d1ee48419df65c991eca21fea7ee9e413700837"
   }
  }
 },
 "nbformat": 4,
 "nbformat_minor": 5
}
